{
 "cells": [
  {
   "cell_type": "code",
   "execution_count": 1,
   "id": "cd8255f5",
   "metadata": {
    "_cell_guid": "b1076dfc-b9ad-4769-8c92-a6c4dae69d19",
    "_uuid": "8f2839f25d086af736a60e9eeb907d3b93b6e0e5",
    "execution": {
     "iopub.execute_input": "2021-10-10T17:51:29.699684Z",
     "iopub.status.busy": "2021-10-10T17:51:29.699072Z",
     "iopub.status.idle": "2021-10-10T17:51:29.712120Z",
     "shell.execute_reply": "2021-10-10T17:51:29.711595Z",
     "shell.execute_reply.started": "2021-10-10T16:59:25.027786Z"
    },
    "papermill": {
     "duration": 0.109327,
     "end_time": "2021-10-10T17:51:29.712270",
     "exception": false,
     "start_time": "2021-10-10T17:51:29.602943",
     "status": "completed"
    },
    "tags": []
   },
   "outputs": [
    {
     "name": "stdout",
     "output_type": "stream",
     "text": [
      "/kaggle/input/condon-usage-dataset/codon_usage.csv\n"
     ]
    }
   ],
   "source": [
    "# This Python 3 environment comes with many helpful analytics libraries installed\n",
    "# It is defined by the kaggle/python Docker image: https://github.com/kaggle/docker-python\n",
    "# For example, here's several helpful packages to load\n",
    "\n",
    "import numpy as np # linear algebra\n",
    "import pandas as pd # data processing, CSV file I/O (e.g. pd.read_csv)\n",
    "\n",
    "# Input data files are available in the read-only \"../input/\" directory\n",
    "# For example, running this (by clicking run or pressing Shift+Enter) will list all files under the input directory\n",
    "\n",
    "import os\n",
    "for dirname, _, filenames in os.walk('/kaggle/input'):\n",
    "    for filename in filenames:\n",
    "        print(os.path.join(dirname, filename))\n",
    "\n",
    "# You can write up to 20GB to the current directory (/kaggle/working/) that gets preserved as output when you create a version using \"Save & Run All\" \n",
    "# You can also write temporary files to /kaggle/temp/, but they won't be saved outside of the current session"
   ]
  },
  {
   "cell_type": "markdown",
   "id": "7576ae88",
   "metadata": {
    "papermill": {
     "duration": 0.016423,
     "end_time": "2021-10-10T17:51:29.747436",
     "exception": false,
     "start_time": "2021-10-10T17:51:29.731013",
     "status": "completed"
    },
    "tags": []
   },
   "source": [
    "#  **Getting Started**\n",
    "\n",
    "#### **Title : Genetic Code**\n",
    "\n",
    "#### **Description**\n",
    "\n",
    "**We will predict the kingdom of each gene**.\n",
    "\n",
    "> **bct (bacteria)** \n",
    "\n",
    "> **inv (invertebrates)** \n",
    "\n",
    "> **mam (mammals)** \n",
    "\n",
    "> **pln (plants)** \n",
    "\n",
    "> **pri (primates)** \n",
    "\n",
    "> **rod (rodents)** \n",
    "\n",
    "> **vrt (vertebrates)**"
   ]
  },
  {
   "cell_type": "code",
   "execution_count": 2,
   "id": "3427f3a0",
   "metadata": {
    "execution": {
     "iopub.execute_input": "2021-10-10T17:51:29.784604Z",
     "iopub.status.busy": "2021-10-10T17:51:29.783942Z",
     "iopub.status.idle": "2021-10-10T17:51:30.048755Z",
     "shell.execute_reply": "2021-10-10T17:51:30.049218Z",
     "shell.execute_reply.started": "2021-10-10T16:59:25.1794Z"
    },
    "papermill": {
     "duration": 0.285587,
     "end_time": "2021-10-10T17:51:30.049382",
     "exception": false,
     "start_time": "2021-10-10T17:51:29.763795",
     "status": "completed"
    },
    "tags": []
   },
   "outputs": [
    {
     "data": {
      "text/html": [
       "<div>\n",
       "<style scoped>\n",
       "    .dataframe tbody tr th:only-of-type {\n",
       "        vertical-align: middle;\n",
       "    }\n",
       "\n",
       "    .dataframe tbody tr th {\n",
       "        vertical-align: top;\n",
       "    }\n",
       "\n",
       "    .dataframe thead th {\n",
       "        text-align: right;\n",
       "    }\n",
       "</style>\n",
       "<table border=\"1\" class=\"dataframe\">\n",
       "  <thead>\n",
       "    <tr style=\"text-align: right;\">\n",
       "      <th></th>\n",
       "      <th>Kingdom</th>\n",
       "      <th>DNAtype</th>\n",
       "      <th>Ncodons</th>\n",
       "      <th>SpeciesName</th>\n",
       "      <th>UUU</th>\n",
       "      <th>UUC</th>\n",
       "      <th>UUA</th>\n",
       "      <th>UUG</th>\n",
       "      <th>CUU</th>\n",
       "      <th>CUC</th>\n",
       "      <th>...</th>\n",
       "      <th>CGG</th>\n",
       "      <th>AGA</th>\n",
       "      <th>AGG</th>\n",
       "      <th>GAU</th>\n",
       "      <th>GAC</th>\n",
       "      <th>GAA</th>\n",
       "      <th>GAG</th>\n",
       "      <th>UAA</th>\n",
       "      <th>UAG</th>\n",
       "      <th>UGA</th>\n",
       "    </tr>\n",
       "    <tr>\n",
       "      <th>SpeciesID</th>\n",
       "      <th></th>\n",
       "      <th></th>\n",
       "      <th></th>\n",
       "      <th></th>\n",
       "      <th></th>\n",
       "      <th></th>\n",
       "      <th></th>\n",
       "      <th></th>\n",
       "      <th></th>\n",
       "      <th></th>\n",
       "      <th></th>\n",
       "      <th></th>\n",
       "      <th></th>\n",
       "      <th></th>\n",
       "      <th></th>\n",
       "      <th></th>\n",
       "      <th></th>\n",
       "      <th></th>\n",
       "      <th></th>\n",
       "      <th></th>\n",
       "      <th></th>\n",
       "    </tr>\n",
       "  </thead>\n",
       "  <tbody>\n",
       "    <tr>\n",
       "      <th>100217</th>\n",
       "      <td>vrl</td>\n",
       "      <td>0</td>\n",
       "      <td>1995</td>\n",
       "      <td>Epizootic haematopoietic necrosis virus</td>\n",
       "      <td>0.01654</td>\n",
       "      <td>0.01203</td>\n",
       "      <td>0.00050</td>\n",
       "      <td>0.00351</td>\n",
       "      <td>0.01203</td>\n",
       "      <td>0.03208</td>\n",
       "      <td>...</td>\n",
       "      <td>0.00451</td>\n",
       "      <td>0.01303</td>\n",
       "      <td>0.03559</td>\n",
       "      <td>0.01003</td>\n",
       "      <td>0.04612</td>\n",
       "      <td>0.01203</td>\n",
       "      <td>0.04361</td>\n",
       "      <td>0.00251</td>\n",
       "      <td>0.00050</td>\n",
       "      <td>0.00000</td>\n",
       "    </tr>\n",
       "    <tr>\n",
       "      <th>100220</th>\n",
       "      <td>vrl</td>\n",
       "      <td>0</td>\n",
       "      <td>1474</td>\n",
       "      <td>Bohle iridovirus</td>\n",
       "      <td>0.02714</td>\n",
       "      <td>0.01357</td>\n",
       "      <td>0.00068</td>\n",
       "      <td>0.00678</td>\n",
       "      <td>0.00407</td>\n",
       "      <td>0.02849</td>\n",
       "      <td>...</td>\n",
       "      <td>0.00136</td>\n",
       "      <td>0.01696</td>\n",
       "      <td>0.03596</td>\n",
       "      <td>0.01221</td>\n",
       "      <td>0.04545</td>\n",
       "      <td>0.01560</td>\n",
       "      <td>0.04410</td>\n",
       "      <td>0.00271</td>\n",
       "      <td>0.00068</td>\n",
       "      <td>0.00000</td>\n",
       "    </tr>\n",
       "    <tr>\n",
       "      <th>100755</th>\n",
       "      <td>vrl</td>\n",
       "      <td>0</td>\n",
       "      <td>4862</td>\n",
       "      <td>Sweet potato leaf curl virus</td>\n",
       "      <td>0.01974</td>\n",
       "      <td>0.0218</td>\n",
       "      <td>0.01357</td>\n",
       "      <td>0.01543</td>\n",
       "      <td>0.00782</td>\n",
       "      <td>0.01111</td>\n",
       "      <td>...</td>\n",
       "      <td>0.00596</td>\n",
       "      <td>0.01974</td>\n",
       "      <td>0.02489</td>\n",
       "      <td>0.03126</td>\n",
       "      <td>0.02036</td>\n",
       "      <td>0.02242</td>\n",
       "      <td>0.02468</td>\n",
       "      <td>0.00391</td>\n",
       "      <td>0.00000</td>\n",
       "      <td>0.00144</td>\n",
       "    </tr>\n",
       "    <tr>\n",
       "      <th>100880</th>\n",
       "      <td>vrl</td>\n",
       "      <td>0</td>\n",
       "      <td>1915</td>\n",
       "      <td>Northern cereal mosaic virus</td>\n",
       "      <td>0.01775</td>\n",
       "      <td>0.02245</td>\n",
       "      <td>0.01619</td>\n",
       "      <td>0.00992</td>\n",
       "      <td>0.01567</td>\n",
       "      <td>0.01358</td>\n",
       "      <td>...</td>\n",
       "      <td>0.00366</td>\n",
       "      <td>0.01410</td>\n",
       "      <td>0.01671</td>\n",
       "      <td>0.03760</td>\n",
       "      <td>0.01932</td>\n",
       "      <td>0.03029</td>\n",
       "      <td>0.03446</td>\n",
       "      <td>0.00261</td>\n",
       "      <td>0.00157</td>\n",
       "      <td>0.00000</td>\n",
       "    </tr>\n",
       "    <tr>\n",
       "      <th>100887</th>\n",
       "      <td>vrl</td>\n",
       "      <td>0</td>\n",
       "      <td>22831</td>\n",
       "      <td>Soil-borne cereal mosaic virus</td>\n",
       "      <td>0.02816</td>\n",
       "      <td>0.01371</td>\n",
       "      <td>0.00767</td>\n",
       "      <td>0.03679</td>\n",
       "      <td>0.01380</td>\n",
       "      <td>0.00548</td>\n",
       "      <td>...</td>\n",
       "      <td>0.00604</td>\n",
       "      <td>0.01494</td>\n",
       "      <td>0.01734</td>\n",
       "      <td>0.04148</td>\n",
       "      <td>0.02483</td>\n",
       "      <td>0.03359</td>\n",
       "      <td>0.03679</td>\n",
       "      <td>0.00000</td>\n",
       "      <td>0.00044</td>\n",
       "      <td>0.00131</td>\n",
       "    </tr>\n",
       "  </tbody>\n",
       "</table>\n",
       "<p>5 rows × 68 columns</p>\n",
       "</div>"
      ],
      "text/plain": [
       "          Kingdom  DNAtype  Ncodons                              SpeciesName  \\\n",
       "SpeciesID                                                                      \n",
       "100217        vrl        0     1995  Epizootic haematopoietic necrosis virus   \n",
       "100220        vrl        0     1474                         Bohle iridovirus   \n",
       "100755        vrl        0     4862             Sweet potato leaf curl virus   \n",
       "100880        vrl        0     1915             Northern cereal mosaic virus   \n",
       "100887        vrl        0    22831           Soil-borne cereal mosaic virus   \n",
       "\n",
       "               UUU      UUC      UUA      UUG      CUU      CUC  ...      CGG  \\\n",
       "SpeciesID                                                        ...            \n",
       "100217     0.01654  0.01203  0.00050  0.00351  0.01203  0.03208  ...  0.00451   \n",
       "100220     0.02714  0.01357  0.00068  0.00678  0.00407  0.02849  ...  0.00136   \n",
       "100755     0.01974   0.0218  0.01357  0.01543  0.00782  0.01111  ...  0.00596   \n",
       "100880     0.01775  0.02245  0.01619  0.00992  0.01567  0.01358  ...  0.00366   \n",
       "100887     0.02816  0.01371  0.00767  0.03679  0.01380  0.00548  ...  0.00604   \n",
       "\n",
       "               AGA      AGG      GAU      GAC      GAA      GAG      UAA  \\\n",
       "SpeciesID                                                                  \n",
       "100217     0.01303  0.03559  0.01003  0.04612  0.01203  0.04361  0.00251   \n",
       "100220     0.01696  0.03596  0.01221  0.04545  0.01560  0.04410  0.00271   \n",
       "100755     0.01974  0.02489  0.03126  0.02036  0.02242  0.02468  0.00391   \n",
       "100880     0.01410  0.01671  0.03760  0.01932  0.03029  0.03446  0.00261   \n",
       "100887     0.01494  0.01734  0.04148  0.02483  0.03359  0.03679  0.00000   \n",
       "\n",
       "               UAG      UGA  \n",
       "SpeciesID                    \n",
       "100217     0.00050  0.00000  \n",
       "100220     0.00068  0.00000  \n",
       "100755     0.00000  0.00144  \n",
       "100880     0.00157  0.00000  \n",
       "100887     0.00044  0.00131  \n",
       "\n",
       "[5 rows x 68 columns]"
      ]
     },
     "execution_count": 2,
     "metadata": {},
     "output_type": "execute_result"
    }
   ],
   "source": [
    "# Read .csv file into pandas dataframe\n",
    "data = pd.read_csv('/kaggle/input/condon-usage-dataset/codon_usage.csv', low_memory=False)\n",
    "data=data.set_index('SpeciesID')\n",
    "data.head()"
   ]
  },
  {
   "cell_type": "markdown",
   "id": "a008ddf1",
   "metadata": {
    "papermill": {
     "duration": 0.01687,
     "end_time": "2021-10-10T17:51:30.084321",
     "exception": false,
     "start_time": "2021-10-10T17:51:30.067451",
     "status": "completed"
    },
    "tags": []
   },
   "source": [
    "# **STEP 01 - ⚙️ Data Pre Processing**"
   ]
  },
  {
   "cell_type": "code",
   "execution_count": 3,
   "id": "9ab2cc23",
   "metadata": {
    "execution": {
     "iopub.execute_input": "2021-10-10T17:51:30.123047Z",
     "iopub.status.busy": "2021-10-10T17:51:30.121475Z",
     "iopub.status.idle": "2021-10-10T17:51:30.145647Z",
     "shell.execute_reply": "2021-10-10T17:51:30.146067Z",
     "shell.execute_reply.started": "2021-10-10T16:59:25.563901Z"
    },
    "papermill": {
     "duration": 0.044974,
     "end_time": "2021-10-10T17:51:30.146208",
     "exception": false,
     "start_time": "2021-10-10T17:51:30.101234",
     "status": "completed"
    },
    "tags": []
   },
   "outputs": [
    {
     "name": "stdout",
     "output_type": "stream",
     "text": [
      "The shape of data of is  (13028, 68)\n",
      "<class 'pandas.core.frame.DataFrame'>\n",
      "Int64Index: 13028 entries, 100217 to 9606\n",
      "Data columns (total 68 columns):\n",
      " #   Column       Non-Null Count  Dtype  \n",
      "---  ------       --------------  -----  \n",
      " 0   Kingdom      13028 non-null  object \n",
      " 1   DNAtype      13028 non-null  int64  \n",
      " 2   Ncodons      13028 non-null  int64  \n",
      " 3   SpeciesName  13028 non-null  object \n",
      " 4   UUU          13028 non-null  object \n",
      " 5   UUC          13028 non-null  object \n",
      " 6   UUA          13028 non-null  float64\n",
      " 7   UUG          13028 non-null  float64\n",
      " 8   CUU          13028 non-null  float64\n",
      " 9   CUC          13028 non-null  float64\n",
      " 10  CUA          13028 non-null  float64\n",
      " 11  CUG          13028 non-null  float64\n",
      " 12  AUU          13028 non-null  float64\n",
      " 13  AUC          13028 non-null  float64\n",
      " 14  AUA          13028 non-null  float64\n",
      " 15  AUG          13028 non-null  float64\n",
      " 16  GUU          13028 non-null  float64\n",
      " 17  GUC          13028 non-null  float64\n",
      " 18  GUA          13028 non-null  float64\n",
      " 19  GUG          13028 non-null  float64\n",
      " 20  GCU          13028 non-null  float64\n",
      " 21  GCC          13028 non-null  float64\n",
      " 22  GCA          13028 non-null  float64\n",
      " 23  GCG          13028 non-null  float64\n",
      " 24  CCU          13028 non-null  float64\n",
      " 25  CCC          13028 non-null  float64\n",
      " 26  CCA          13028 non-null  float64\n",
      " 27  CCG          13028 non-null  float64\n",
      " 28  UGG          13028 non-null  float64\n",
      " 29  GGU          13028 non-null  float64\n",
      " 30  GGC          13028 non-null  float64\n",
      " 31  GGA          13028 non-null  float64\n",
      " 32  GGG          13028 non-null  float64\n",
      " 33  UCU          13028 non-null  float64\n",
      " 34  UCC          13028 non-null  float64\n",
      " 35  UCA          13028 non-null  float64\n",
      " 36  UCG          13028 non-null  float64\n",
      " 37  AGU          13028 non-null  float64\n",
      " 38  AGC          13028 non-null  float64\n",
      " 39  ACU          13028 non-null  float64\n",
      " 40  ACC          13028 non-null  float64\n",
      " 41  ACA          13028 non-null  float64\n",
      " 42  ACG          13028 non-null  float64\n",
      " 43  UAU          13028 non-null  float64\n",
      " 44  UAC          13028 non-null  float64\n",
      " 45  CAA          13028 non-null  float64\n",
      " 46  CAG          13028 non-null  float64\n",
      " 47  AAU          13028 non-null  float64\n",
      " 48  AAC          13028 non-null  float64\n",
      " 49  UGU          13028 non-null  float64\n",
      " 50  UGC          13028 non-null  float64\n",
      " 51  CAU          13028 non-null  float64\n",
      " 52  CAC          13028 non-null  float64\n",
      " 53  AAA          13028 non-null  float64\n",
      " 54  AAG          13028 non-null  float64\n",
      " 55  CGU          13028 non-null  float64\n",
      " 56  CGC          13028 non-null  float64\n",
      " 57  CGA          13028 non-null  float64\n",
      " 58  CGG          13028 non-null  float64\n",
      " 59  AGA          13028 non-null  float64\n",
      " 60  AGG          13028 non-null  float64\n",
      " 61  GAU          13028 non-null  float64\n",
      " 62  GAC          13028 non-null  float64\n",
      " 63  GAA          13028 non-null  float64\n",
      " 64  GAG          13028 non-null  float64\n",
      " 65  UAA          13028 non-null  float64\n",
      " 66  UAG          13028 non-null  float64\n",
      " 67  UGA          13028 non-null  float64\n",
      "dtypes: float64(62), int64(2), object(4)\n",
      "memory usage: 6.9+ MB\n"
     ]
    }
   ],
   "source": [
    "# Checking the shape of data \n",
    "print(\"The shape of data of is \" ,data.shape)\n",
    "# info of data \n",
    "data.info()"
   ]
  },
  {
   "cell_type": "code",
   "execution_count": 4,
   "id": "dd48481b",
   "metadata": {
    "execution": {
     "iopub.execute_input": "2021-10-10T17:51:30.186038Z",
     "iopub.status.busy": "2021-10-10T17:51:30.185534Z",
     "iopub.status.idle": "2021-10-10T17:51:32.273674Z",
     "shell.execute_reply": "2021-10-10T17:51:32.274202Z",
     "shell.execute_reply.started": "2021-10-10T16:59:25.614321Z"
    },
    "papermill": {
     "duration": 2.109538,
     "end_time": "2021-10-10T17:51:32.274442",
     "exception": false,
     "start_time": "2021-10-10T17:51:30.164904",
     "status": "completed"
    },
    "tags": []
   },
   "outputs": [
    {
     "data": {
      "text/plain": [
       "<AxesSubplot:ylabel='SpeciesID'>"
      ]
     },
     "execution_count": 4,
     "metadata": {},
     "output_type": "execute_result"
    },
    {
     "data": {
      "image/png": "[encoded data removed]",
      "text/plain": [
       "<Figure size 432x288 with 1 Axes>"
      ]
     },
     "metadata": {
      "needs_background": "light"
     },
     "output_type": "display_data"
    }
   ],
   "source": [
    "# Checking for null values\n",
    "import seaborn as sns \n",
    "sns.heatmap(data.isnull(), cbar=False)"
   ]
  },
  {
   "cell_type": "code",
   "execution_count": 5,
   "id": "49d2c5c8",
   "metadata": {
    "execution": {
     "iopub.execute_input": "2021-10-10T17:51:32.321113Z",
     "iopub.status.busy": "2021-10-10T17:51:32.320321Z",
     "iopub.status.idle": "2021-10-10T17:51:32.325615Z",
     "shell.execute_reply": "2021-10-10T17:51:32.326010Z",
     "shell.execute_reply.started": "2021-10-10T16:59:27.590145Z"
    },
    "papermill": {
     "duration": 0.032333,
     "end_time": "2021-10-10T17:51:32.326159",
     "exception": false,
     "start_time": "2021-10-10T17:51:32.293826",
     "status": "completed"
    },
    "tags": []
   },
   "outputs": [
    {
     "data": {
      "text/plain": [
       "bct    2920\n",
       "vrl    2832\n",
       "pln    2523\n",
       "vrt    2077\n",
       "inv    1345\n",
       "mam     572\n",
       "phg     220\n",
       "rod     215\n",
       "pri     180\n",
       "arc     126\n",
       "plm      18\n",
       "Name: Kingdom, dtype: int64"
      ]
     },
     "execution_count": 5,
     "metadata": {},
     "output_type": "execute_result"
    }
   ],
   "source": [
    "# lets check some value_counts for kingdom \n",
    "data['Kingdom'].value_counts()"
   ]
  },
  {
   "cell_type": "markdown",
   "id": "71b20e79",
   "metadata": {
    "papermill": {
     "duration": 0.01843,
     "end_time": "2021-10-10T17:51:32.363501",
     "exception": false,
     "start_time": "2021-10-10T17:51:32.345071",
     "status": "completed"
    },
    "tags": []
   },
   "source": [
    "**We can use two approaches for solving this data. The first one is we will apply the label encoding technique & One Hot Encoding on Kingdom feature data but this technique we will apply if we are using logistic regression or other models. But we are using DTC & Random forest so thats why this technique is not needed also we are getting better accuracy from DTC and random forest. If I'm wrong please correct me. 😉**"
   ]
  },
  {
   "cell_type": "markdown",
   "id": "2ada5d02",
   "metadata": {
    "papermill": {
     "duration": 0.018511,
     "end_time": "2021-10-10T17:51:32.402363",
     "exception": false,
     "start_time": "2021-10-10T17:51:32.383852",
     "status": "completed"
    },
    "tags": []
   },
   "source": [
    "# **STEP - 02 😀 Data Transformation**"
   ]
  },
  {
   "cell_type": "code",
   "execution_count": 6,
   "id": "d4a595ea",
   "metadata": {
    "execution": {
     "iopub.execute_input": "2021-10-10T17:51:32.447421Z",
     "iopub.status.busy": "2021-10-10T17:51:32.446395Z",
     "iopub.status.idle": "2021-10-10T17:51:32.478670Z",
     "shell.execute_reply": "2021-10-10T17:51:32.479115Z",
     "shell.execute_reply.started": "2021-10-10T16:59:27.601622Z"
    },
    "papermill": {
     "duration": 0.058151,
     "end_time": "2021-10-10T17:51:32.479294",
     "exception": false,
     "start_time": "2021-10-10T17:51:32.421143",
     "status": "completed"
    },
    "tags": []
   },
   "outputs": [],
   "source": [
    "# Columns is a float value with type object we have to change the data type\n",
    "data['UUU']=data['UUU'].replace(['non-B hepatitis virus','12;I'],'NaN')\n",
    "data['UUC']=data['UUC'].replace('-','NaN')\n",
    "data['UUU'] = data['UUU'].astype('float32')\n",
    "data['UUC'] = data['UUC'].astype('float32')\n",
    "data.dropna(inplace=True)"
   ]
  },
  {
   "cell_type": "code",
   "execution_count": 7,
   "id": "7ed30f59",
   "metadata": {
    "execution": {
     "iopub.execute_input": "2021-10-10T17:51:32.523140Z",
     "iopub.status.busy": "2021-10-10T17:51:32.522520Z",
     "iopub.status.idle": "2021-10-10T17:51:32.524652Z",
     "shell.execute_reply": "2021-10-10T17:51:32.525072Z",
     "shell.execute_reply.started": "2021-10-10T16:59:27.641178Z"
    },
    "papermill": {
     "duration": 0.027228,
     "end_time": "2021-10-10T17:51:32.525240",
     "exception": false,
     "start_time": "2021-10-10T17:51:32.498012",
     "status": "completed"
    },
    "tags": []
   },
   "outputs": [],
   "source": [
    "# spilt dataset into X & Y \n",
    "X = data.drop(columns = ['Kingdom','SpeciesName'], axis = 1 )\n",
    "y = data['Kingdom']"
   ]
  },
  {
   "cell_type": "code",
   "execution_count": 8,
   "id": "c7853743",
   "metadata": {
    "execution": {
     "iopub.execute_input": "2021-10-10T17:51:32.567334Z",
     "iopub.status.busy": "2021-10-10T17:51:32.566457Z",
     "iopub.status.idle": "2021-10-10T17:51:32.569698Z",
     "shell.execute_reply": "2021-10-10T17:51:32.570288Z",
     "shell.execute_reply.started": "2021-10-10T16:59:27.649747Z"
    },
    "papermill": {
     "duration": 0.02616,
     "end_time": "2021-10-10T17:51:32.570452",
     "exception": false,
     "start_time": "2021-10-10T17:51:32.544292",
     "status": "completed"
    },
    "tags": []
   },
   "outputs": [
    {
     "name": "stdout",
     "output_type": "stream",
     "text": [
      "The shape of is X  (13026, 66)\n",
      "The shape of is y  (13026,)\n"
     ]
    }
   ],
   "source": [
    "# lets chk the shape of X\n",
    "print(\"The shape of is X \", X.shape)\n",
    "print(\"The shape of is y \", y.shape)"
   ]
  },
  {
   "cell_type": "code",
   "execution_count": 9,
   "id": "33328e50",
   "metadata": {
    "execution": {
     "iopub.execute_input": "2021-10-10T17:51:32.614946Z",
     "iopub.status.busy": "2021-10-10T17:51:32.614118Z",
     "iopub.status.idle": "2021-10-10T17:51:32.774542Z",
     "shell.execute_reply": "2021-10-10T17:51:32.774934Z",
     "shell.execute_reply.started": "2021-10-10T16:59:27.65952Z"
    },
    "papermill": {
     "duration": 0.182912,
     "end_time": "2021-10-10T17:51:32.775077",
     "exception": false,
     "start_time": "2021-10-10T17:51:32.592165",
     "status": "completed"
    },
    "tags": []
   },
   "outputs": [
    {
     "data": {
      "text/html": [
       "<div>\n",
       "<style scoped>\n",
       "    .dataframe tbody tr th:only-of-type {\n",
       "        vertical-align: middle;\n",
       "    }\n",
       "\n",
       "    .dataframe tbody tr th {\n",
       "        vertical-align: top;\n",
       "    }\n",
       "\n",
       "    .dataframe thead th {\n",
       "        text-align: right;\n",
       "    }\n",
       "</style>\n",
       "<table border=\"1\" class=\"dataframe\">\n",
       "  <thead>\n",
       "    <tr style=\"text-align: right;\">\n",
       "      <th></th>\n",
       "      <th>DNAtype</th>\n",
       "      <th>Ncodons</th>\n",
       "      <th>UUU</th>\n",
       "      <th>UUC</th>\n",
       "      <th>UUA</th>\n",
       "      <th>UUG</th>\n",
       "      <th>CUU</th>\n",
       "      <th>CUC</th>\n",
       "      <th>CUA</th>\n",
       "      <th>CUG</th>\n",
       "      <th>...</th>\n",
       "      <th>CGG</th>\n",
       "      <th>AGA</th>\n",
       "      <th>AGG</th>\n",
       "      <th>GAU</th>\n",
       "      <th>GAC</th>\n",
       "      <th>GAA</th>\n",
       "      <th>GAG</th>\n",
       "      <th>UAA</th>\n",
       "      <th>UAG</th>\n",
       "      <th>UGA</th>\n",
       "    </tr>\n",
       "  </thead>\n",
       "  <tbody>\n",
       "    <tr>\n",
       "      <th>count</th>\n",
       "      <td>13026.000000</td>\n",
       "      <td>1.302600e+04</td>\n",
       "      <td>13026.000000</td>\n",
       "      <td>13026.000000</td>\n",
       "      <td>13026.000000</td>\n",
       "      <td>13026.000000</td>\n",
       "      <td>13026.000000</td>\n",
       "      <td>13026.000000</td>\n",
       "      <td>13026.000000</td>\n",
       "      <td>13026.000000</td>\n",
       "      <td>...</td>\n",
       "      <td>13026.000000</td>\n",
       "      <td>13026.000000</td>\n",
       "      <td>13026.000000</td>\n",
       "      <td>13026.000000</td>\n",
       "      <td>13026.000000</td>\n",
       "      <td>13026.000000</td>\n",
       "      <td>13026.000000</td>\n",
       "      <td>13026.000000</td>\n",
       "      <td>13026.000000</td>\n",
       "      <td>13026.000000</td>\n",
       "    </tr>\n",
       "    <tr>\n",
       "      <th>mean</th>\n",
       "      <td>0.367265</td>\n",
       "      <td>7.961776e+04</td>\n",
       "      <td>0.024818</td>\n",
       "      <td>0.023440</td>\n",
       "      <td>0.020637</td>\n",
       "      <td>0.014104</td>\n",
       "      <td>0.017821</td>\n",
       "      <td>0.018287</td>\n",
       "      <td>0.019045</td>\n",
       "      <td>0.018452</td>\n",
       "      <td>...</td>\n",
       "      <td>0.005453</td>\n",
       "      <td>0.009930</td>\n",
       "      <td>0.006423</td>\n",
       "      <td>0.024181</td>\n",
       "      <td>0.021164</td>\n",
       "      <td>0.028291</td>\n",
       "      <td>0.021683</td>\n",
       "      <td>0.001640</td>\n",
       "      <td>0.000590</td>\n",
       "      <td>0.006179</td>\n",
       "    </tr>\n",
       "    <tr>\n",
       "      <th>std</th>\n",
       "      <td>0.688764</td>\n",
       "      <td>7.197556e+05</td>\n",
       "      <td>0.017628</td>\n",
       "      <td>0.011598</td>\n",
       "      <td>0.020710</td>\n",
       "      <td>0.009280</td>\n",
       "      <td>0.010587</td>\n",
       "      <td>0.014573</td>\n",
       "      <td>0.024252</td>\n",
       "      <td>0.016578</td>\n",
       "      <td>...</td>\n",
       "      <td>0.006601</td>\n",
       "      <td>0.008574</td>\n",
       "      <td>0.006388</td>\n",
       "      <td>0.013826</td>\n",
       "      <td>0.013039</td>\n",
       "      <td>0.014343</td>\n",
       "      <td>0.015019</td>\n",
       "      <td>0.001785</td>\n",
       "      <td>0.000882</td>\n",
       "      <td>0.010345</td>\n",
       "    </tr>\n",
       "    <tr>\n",
       "      <th>min</th>\n",
       "      <td>0.000000</td>\n",
       "      <td>1.000000e+03</td>\n",
       "      <td>0.000000</td>\n",
       "      <td>0.000000</td>\n",
       "      <td>0.000000</td>\n",
       "      <td>0.000000</td>\n",
       "      <td>0.000000</td>\n",
       "      <td>0.000000</td>\n",
       "      <td>0.000000</td>\n",
       "      <td>0.000000</td>\n",
       "      <td>...</td>\n",
       "      <td>0.000000</td>\n",
       "      <td>0.000000</td>\n",
       "      <td>0.000000</td>\n",
       "      <td>0.000000</td>\n",
       "      <td>0.000000</td>\n",
       "      <td>0.000000</td>\n",
       "      <td>0.000000</td>\n",
       "      <td>0.000000</td>\n",
       "      <td>0.000000</td>\n",
       "      <td>0.000000</td>\n",
       "    </tr>\n",
       "    <tr>\n",
       "      <th>25%</th>\n",
       "      <td>0.000000</td>\n",
       "      <td>1.602000e+03</td>\n",
       "      <td>0.013910</td>\n",
       "      <td>0.015380</td>\n",
       "      <td>0.005610</td>\n",
       "      <td>0.007102</td>\n",
       "      <td>0.010890</td>\n",
       "      <td>0.007830</td>\n",
       "      <td>0.005302</td>\n",
       "      <td>0.007180</td>\n",
       "      <td>...</td>\n",
       "      <td>0.001220</td>\n",
       "      <td>0.001690</td>\n",
       "      <td>0.001170</td>\n",
       "      <td>0.012390</td>\n",
       "      <td>0.011860</td>\n",
       "      <td>0.017360</td>\n",
       "      <td>0.009710</td>\n",
       "      <td>0.000560</td>\n",
       "      <td>0.000000</td>\n",
       "      <td>0.000410</td>\n",
       "    </tr>\n",
       "    <tr>\n",
       "      <th>50%</th>\n",
       "      <td>0.000000</td>\n",
       "      <td>2.929000e+03</td>\n",
       "      <td>0.021750</td>\n",
       "      <td>0.021905</td>\n",
       "      <td>0.015260</td>\n",
       "      <td>0.013360</td>\n",
       "      <td>0.016130</td>\n",
       "      <td>0.014560</td>\n",
       "      <td>0.009680</td>\n",
       "      <td>0.012800</td>\n",
       "      <td>...</td>\n",
       "      <td>0.003530</td>\n",
       "      <td>0.009270</td>\n",
       "      <td>0.004545</td>\n",
       "      <td>0.025425</td>\n",
       "      <td>0.019070</td>\n",
       "      <td>0.026085</td>\n",
       "      <td>0.020540</td>\n",
       "      <td>0.001380</td>\n",
       "      <td>0.000420</td>\n",
       "      <td>0.001130</td>\n",
       "    </tr>\n",
       "    <tr>\n",
       "      <th>75%</th>\n",
       "      <td>1.000000</td>\n",
       "      <td>9.120000e+03</td>\n",
       "      <td>0.031307</td>\n",
       "      <td>0.029210</td>\n",
       "      <td>0.029495</td>\n",
       "      <td>0.019808</td>\n",
       "      <td>0.022730</td>\n",
       "      <td>0.025110</td>\n",
       "      <td>0.017255</td>\n",
       "      <td>0.024325</td>\n",
       "      <td>...</td>\n",
       "      <td>0.007150</td>\n",
       "      <td>0.015928</td>\n",
       "      <td>0.010250</td>\n",
       "      <td>0.034190</td>\n",
       "      <td>0.027690</td>\n",
       "      <td>0.036800</td>\n",
       "      <td>0.031127</td>\n",
       "      <td>0.002370</td>\n",
       "      <td>0.000830</td>\n",
       "      <td>0.002890</td>\n",
       "    </tr>\n",
       "    <tr>\n",
       "      <th>max</th>\n",
       "      <td>12.000000</td>\n",
       "      <td>4.066258e+07</td>\n",
       "      <td>0.217300</td>\n",
       "      <td>0.091690</td>\n",
       "      <td>0.151330</td>\n",
       "      <td>0.101190</td>\n",
       "      <td>0.089780</td>\n",
       "      <td>0.100350</td>\n",
       "      <td>0.163920</td>\n",
       "      <td>0.107370</td>\n",
       "      <td>...</td>\n",
       "      <td>0.055540</td>\n",
       "      <td>0.098830</td>\n",
       "      <td>0.058430</td>\n",
       "      <td>0.185660</td>\n",
       "      <td>0.113840</td>\n",
       "      <td>0.144890</td>\n",
       "      <td>0.158550</td>\n",
       "      <td>0.045200</td>\n",
       "      <td>0.025610</td>\n",
       "      <td>0.106700</td>\n",
       "    </tr>\n",
       "  </tbody>\n",
       "</table>\n",
       "<p>8 rows × 66 columns</p>\n",
       "</div>"
      ],
      "text/plain": [
       "            DNAtype       Ncodons           UUU           UUC           UUA  \\\n",
       "count  13026.000000  1.302600e+04  13026.000000  13026.000000  13026.000000   \n",
       "mean       0.367265  7.961776e+04      0.024818      0.023440      0.020637   \n",
       "std        0.688764  7.197556e+05      0.017628      0.011598      0.020710   \n",
       "min        0.000000  1.000000e+03      0.000000      0.000000      0.000000   \n",
       "25%        0.000000  1.602000e+03      0.013910      0.015380      0.005610   \n",
       "50%        0.000000  2.929000e+03      0.021750      0.021905      0.015260   \n",
       "75%        1.000000  9.120000e+03      0.031307      0.029210      0.029495   \n",
       "max       12.000000  4.066258e+07      0.217300      0.091690      0.151330   \n",
       "\n",
       "                UUG           CUU           CUC           CUA           CUG  \\\n",
       "count  13026.000000  13026.000000  13026.000000  13026.000000  13026.000000   \n",
       "mean       0.014104      0.017821      0.018287      0.019045      0.018452   \n",
       "std        0.009280      0.010587      0.014573      0.024252      0.016578   \n",
       "min        0.000000      0.000000      0.000000      0.000000      0.000000   \n",
       "25%        0.007102      0.010890      0.007830      0.005302      0.007180   \n",
       "50%        0.013360      0.016130      0.014560      0.009680      0.012800   \n",
       "75%        0.019808      0.022730      0.025110      0.017255      0.024325   \n",
       "max        0.101190      0.089780      0.100350      0.163920      0.107370   \n",
       "\n",
       "       ...           CGG           AGA           AGG           GAU  \\\n",
       "count  ...  13026.000000  13026.000000  13026.000000  13026.000000   \n",
       "mean   ...      0.005453      0.009930      0.006423      0.024181   \n",
       "std    ...      0.006601      0.008574      0.006388      0.013826   \n",
       "min    ...      0.000000      0.000000      0.000000      0.000000   \n",
       "25%    ...      0.001220      0.001690      0.001170      0.012390   \n",
       "50%    ...      0.003530      0.009270      0.004545      0.025425   \n",
       "75%    ...      0.007150      0.015928      0.010250      0.034190   \n",
       "max    ...      0.055540      0.098830      0.058430      0.185660   \n",
       "\n",
       "                GAC           GAA           GAG           UAA           UAG  \\\n",
       "count  13026.000000  13026.000000  13026.000000  13026.000000  13026.000000   \n",
       "mean       0.021164      0.028291      0.021683      0.001640      0.000590   \n",
       "std        0.013039      0.014343      0.015019      0.001785      0.000882   \n",
       "min        0.000000      0.000000      0.000000      0.000000      0.000000   \n",
       "25%        0.011860      0.017360      0.009710      0.000560      0.000000   \n",
       "50%        0.019070      0.026085      0.020540      0.001380      0.000420   \n",
       "75%        0.027690      0.036800      0.031127      0.002370      0.000830   \n",
       "max        0.113840      0.144890      0.158550      0.045200      0.025610   \n",
       "\n",
       "                UGA  \n",
       "count  13026.000000  \n",
       "mean       0.006179  \n",
       "std        0.010345  \n",
       "min        0.000000  \n",
       "25%        0.000410  \n",
       "50%        0.001130  \n",
       "75%        0.002890  \n",
       "max        0.106700  \n",
       "\n",
       "[8 rows x 66 columns]"
      ]
     },
     "execution_count": 9,
     "metadata": {},
     "output_type": "execute_result"
    }
   ],
   "source": [
    "# Describe the dataset\n",
    "X.describe()"
   ]
  },
  {
   "cell_type": "code",
   "execution_count": 10,
   "id": "036fc64c",
   "metadata": {
    "execution": {
     "iopub.execute_input": "2021-10-10T17:51:32.830106Z",
     "iopub.status.busy": "2021-10-10T17:51:32.818863Z",
     "iopub.status.idle": "2021-10-10T17:51:36.234892Z",
     "shell.execute_reply": "2021-10-10T17:51:36.234462Z",
     "shell.execute_reply.started": "2021-10-10T16:59:27.827881Z"
    },
    "papermill": {
     "duration": 3.439834,
     "end_time": "2021-10-10T17:51:36.235017",
     "exception": false,
     "start_time": "2021-10-10T17:51:32.795183",
     "status": "completed"
    },
    "tags": []
   },
   "outputs": [
    {
     "name": "stderr",
     "output_type": "stream",
     "text": [
      "/opt/conda/lib/python3.7/site-packages/seaborn/distributions.py:2619: FutureWarning: `distplot` is a deprecated function and will be removed in a future version. Please adapt your code to use either `displot` (a figure-level function with similar flexibility) or `histplot` (an axes-level function for histograms).\n",
      "  warnings.warn(msg, FutureWarning)\n",
      "/opt/conda/lib/python3.7/site-packages/seaborn/distributions.py:2619: FutureWarning: `distplot` is a deprecated function and will be removed in a future version. Please adapt your code to use either `displot` (a figure-level function with similar flexibility) or `histplot` (an axes-level function for histograms).\n",
      "  warnings.warn(msg, FutureWarning)\n",
      "/opt/conda/lib/python3.7/site-packages/seaborn/distributions.py:2619: FutureWarning: `distplot` is a deprecated function and will be removed in a future version. Please adapt your code to use either `displot` (a figure-level function with similar flexibility) or `histplot` (an axes-level function for histograms).\n",
      "  warnings.warn(msg, FutureWarning)\n",
      "/opt/conda/lib/python3.7/site-packages/seaborn/distributions.py:2619: FutureWarning: `distplot` is a deprecated function and will be removed in a future version. Please adapt your code to use either `displot` (a figure-level function with similar flexibility) or `histplot` (an axes-level function for histograms).\n",
      "  warnings.warn(msg, FutureWarning)\n",
      "/opt/conda/lib/python3.7/site-packages/seaborn/distributions.py:2619: FutureWarning: `distplot` is a deprecated function and will be removed in a future version. Please adapt your code to use either `displot` (a figure-level function with similar flexibility) or `histplot` (an axes-level function for histograms).\n",
      "  warnings.warn(msg, FutureWarning)\n",
      "/opt/conda/lib/python3.7/site-packages/seaborn/distributions.py:2619: FutureWarning: `distplot` is a deprecated function and will be removed in a future version. Please adapt your code to use either `displot` (a figure-level function with similar flexibility) or `histplot` (an axes-level function for histograms).\n",
      "  warnings.warn(msg, FutureWarning)\n",
      "/opt/conda/lib/python3.7/site-packages/seaborn/distributions.py:2619: FutureWarning: `distplot` is a deprecated function and will be removed in a future version. Please adapt your code to use either `displot` (a figure-level function with similar flexibility) or `histplot` (an axes-level function for histograms).\n",
      "  warnings.warn(msg, FutureWarning)\n",
      "/opt/conda/lib/python3.7/site-packages/seaborn/distributions.py:2619: FutureWarning: `distplot` is a deprecated function and will be removed in a future version. Please adapt your code to use either `displot` (a figure-level function with similar flexibility) or `histplot` (an axes-level function for histograms).\n",
      "  warnings.warn(msg, FutureWarning)\n",
      "/opt/conda/lib/python3.7/site-packages/seaborn/distributions.py:2619: FutureWarning: `distplot` is a deprecated function and will be removed in a future version. Please adapt your code to use either `displot` (a figure-level function with similar flexibility) or `histplot` (an axes-level function for histograms).\n",
      "  warnings.warn(msg, FutureWarning)\n"
     ]
    },
    {
     "data": {
      "image/png": "[encoded data removed]",
      "text/plain": [
       "<Figure size 1440x1800 with 9 Axes>"
      ]
     },
     "metadata": {
      "needs_background": "light"
     },
     "output_type": "display_data"
    }
   ],
   "source": [
    "# let's see how data is distributed for every column.\n",
    "import matplotlib.pyplot as plt\n",
    "plt.figure(figsize = (20, 25))\n",
    "plotnumber = 1\n",
    "for column in X:\n",
    "    if plotnumber <= 9:\n",
    "        ax = plt.subplot(3, 3, plotnumber)\n",
    "        sns.distplot(X[column])\n",
    "        plt.xlabel(column, fontsize = 15)\n",
    "        \n",
    "    plotnumber += 1\n",
    "plt.show()"
   ]
  },
  {
   "cell_type": "markdown",
   "id": "d3378fe8",
   "metadata": {
    "papermill": {
     "duration": 0.025265,
     "end_time": "2021-10-10T17:51:36.286597",
     "exception": false,
     "start_time": "2021-10-10T17:51:36.261332",
     "status": "completed"
    },
    "tags": []
   },
   "source": [
    "**We can see that the distribution of data is normal. we will move further.**"
   ]
  },
  {
   "cell_type": "code",
   "execution_count": 11,
   "id": "4aa9eb70",
   "metadata": {
    "execution": {
     "iopub.execute_input": "2021-10-10T17:51:36.346808Z",
     "iopub.status.busy": "2021-10-10T17:51:36.345936Z",
     "iopub.status.idle": "2021-10-10T17:51:36.349610Z",
     "shell.execute_reply": "2021-10-10T17:51:36.349980Z",
     "shell.execute_reply.started": "2021-10-10T16:59:31.040852Z"
    },
    "papermill": {
     "duration": 0.037669,
     "end_time": "2021-10-10T17:51:36.350123",
     "exception": false,
     "start_time": "2021-10-10T17:51:36.312454",
     "status": "completed"
    },
    "tags": []
   },
   "outputs": [
    {
     "data": {
      "text/plain": [
       "bct    2919\n",
       "vrl    2831\n",
       "pln    2523\n",
       "vrt    2077\n",
       "inv    1345\n",
       "mam     572\n",
       "phg     220\n",
       "rod     215\n",
       "pri     180\n",
       "arc     126\n",
       "plm      18\n",
       "Name: Kingdom, dtype: int64"
      ]
     },
     "execution_count": 11,
     "metadata": {},
     "output_type": "execute_result"
    }
   ],
   "source": [
    "# Checking the value counts of target variable\n",
    "y.value_counts()"
   ]
  },
  {
   "cell_type": "markdown",
   "id": "70d6f189",
   "metadata": {
    "papermill": {
     "duration": 0.026099,
     "end_time": "2021-10-10T17:51:36.401738",
     "exception": false,
     "start_time": "2021-10-10T17:51:36.375639",
     "status": "completed"
    },
    "tags": []
   },
   "source": [
    "# **STEP - 03 ✨ Model Preparation**"
   ]
  },
  {
   "cell_type": "code",
   "execution_count": 12,
   "id": "f2b99dc2",
   "metadata": {
    "execution": {
     "iopub.execute_input": "2021-10-10T17:51:36.457388Z",
     "iopub.status.busy": "2021-10-10T17:51:36.456686Z",
     "iopub.status.idle": "2021-10-10T17:51:36.591075Z",
     "shell.execute_reply": "2021-10-10T17:51:36.591532Z",
     "shell.execute_reply.started": "2021-10-10T16:59:31.053428Z"
    },
    "papermill": {
     "duration": 0.164264,
     "end_time": "2021-10-10T17:51:36.591687",
     "exception": false,
     "start_time": "2021-10-10T17:51:36.427423",
     "status": "completed"
    },
    "tags": []
   },
   "outputs": [],
   "source": [
    "# splitting the data into testing and training data.\n",
    "from sklearn.model_selection import train_test_split\n",
    "X_train, X_test, y_train, y_test = train_test_split(X, y, test_size = 0.25, random_state = 0)"
   ]
  },
  {
   "cell_type": "markdown",
   "id": "bd7d6462",
   "metadata": {
    "papermill": {
     "duration": 0.026547,
     "end_time": "2021-10-10T17:51:36.644930",
     "exception": false,
     "start_time": "2021-10-10T17:51:36.618383",
     "status": "completed"
    },
    "tags": []
   },
   "source": [
    "#### **STEP - 04 🙇 Model Building**\n",
    "\n",
    "**We will train Decision tree, Random forest & at last we will select our best model.**"
   ]
  },
  {
   "cell_type": "code",
   "execution_count": 13,
   "id": "fe506af4",
   "metadata": {
    "execution": {
     "iopub.execute_input": "2021-10-10T17:51:36.702001Z",
     "iopub.status.busy": "2021-10-10T17:51:36.701370Z",
     "iopub.status.idle": "2021-10-10T17:51:37.731121Z",
     "shell.execute_reply": "2021-10-10T17:51:37.731805Z",
     "shell.execute_reply.started": "2021-10-10T16:59:31.195965Z"
    },
    "papermill": {
     "duration": 1.061531,
     "end_time": "2021-10-10T17:51:37.731982",
     "exception": false,
     "start_time": "2021-10-10T17:51:36.670451",
     "status": "completed"
    },
    "tags": []
   },
   "outputs": [
    {
     "name": "stdout",
     "output_type": "stream",
     "text": [
      "Training Accuracy of Decision Tree Model is 1.0\n",
      "Test Accuracy of Decision Tree Model is 0.7684986183604544\n"
     ]
    }
   ],
   "source": [
    "# Decision Tree\n",
    "from sklearn.metrics import accuracy_score, classification_report, confusion_matrix\n",
    "from sklearn.tree import DecisionTreeClassifier\n",
    "\n",
    "dtc = DecisionTreeClassifier()\n",
    "dtc.fit(X_train, y_train)\n",
    "\n",
    "y_pred = dtc.predict(X_test)\n",
    "\n",
    "dtc_train_acc = accuracy_score(y_train, dtc.predict(X_train))\n",
    "dtc_test_acc = accuracy_score(y_test, y_pred)\n",
    "\n",
    "print(f\"Training Accuracy of Decision Tree Model is {dtc_train_acc}\")\n",
    "print(f\"Test Accuracy of Decision Tree Model is {dtc_test_acc}\")"
   ]
  },
  {
   "cell_type": "markdown",
   "id": "1fabd48b",
   "metadata": {
    "papermill": {
     "duration": 0.025608,
     "end_time": "2021-10-10T17:51:37.784437",
     "exception": false,
     "start_time": "2021-10-10T17:51:37.758829",
     "status": "completed"
    },
    "tags": []
   },
   "source": [
    "**We will apply some Hyperametertuing on DTC model for better accuracy.**"
   ]
  },
  {
   "cell_type": "code",
   "execution_count": 14,
   "id": "ff063004",
   "metadata": {
    "execution": {
     "iopub.execute_input": "2021-10-10T17:51:37.848587Z",
     "iopub.status.busy": "2021-10-10T17:51:37.848072Z",
     "iopub.status.idle": "2021-10-10T18:11:59.181147Z",
     "shell.execute_reply": "2021-10-10T18:11:59.181570Z",
     "shell.execute_reply.started": "2021-10-10T16:59:32.208467Z"
    },
    "papermill": {
     "duration": 1221.371517,
     "end_time": "2021-10-10T18:11:59.181726",
     "exception": false,
     "start_time": "2021-10-10T17:51:37.810209",
     "status": "completed"
    },
    "tags": []
   },
   "outputs": [
    {
     "name": "stdout",
     "output_type": "stream",
     "text": [
      "Fitting 5 folds for each of 512 candidates, totalling 2560 fits\n"
     ]
    },
    {
     "name": "stderr",
     "output_type": "stream",
     "text": [
      "[Parallel(n_jobs=-1)]: Using backend LokyBackend with 2 concurrent workers.\n",
      "[Parallel(n_jobs=-1)]: Done  46 tasks      | elapsed:    8.8s\n",
      "[Parallel(n_jobs=-1)]: Done 196 tasks      | elapsed:   27.9s\n",
      "[Parallel(n_jobs=-1)]: Done 446 tasks      | elapsed:  1.2min\n",
      "[Parallel(n_jobs=-1)]: Done 796 tasks      | elapsed:  2.5min\n",
      "[Parallel(n_jobs=-1)]: Done 1246 tasks      | elapsed:  5.0min\n",
      "[Parallel(n_jobs=-1)]: Done 1796 tasks      | elapsed:  9.1min\n",
      "[Parallel(n_jobs=-1)]: Done 2446 tasks      | elapsed: 18.4min\n",
      "[Parallel(n_jobs=-1)]: Done 2560 out of 2560 | elapsed: 20.3min finished\n"
     ]
    },
    {
     "data": {
      "text/plain": [
       "GridSearchCV(cv=5, estimator=DecisionTreeClassifier(), n_jobs=-1,\n",
       "             param_grid={'criterion': ['gini', 'entropy'],\n",
       "                         'max_depth': [3, 5, 7, 10],\n",
       "                         'min_samples_leaf': range(2, 10),\n",
       "                         'min_samples_split': range(2, 10)},\n",
       "             verbose=1)"
      ]
     },
     "execution_count": 14,
     "metadata": {},
     "output_type": "execute_result"
    }
   ],
   "source": [
    "# hyper parameter tuning\n",
    "\n",
    "from sklearn.model_selection import GridSearchCV\n",
    "\n",
    "grid_params = {\n",
    "    'criterion' : ['gini', 'entropy'],\n",
    "    'max_depth' : [3, 5, 7, 10],\n",
    "    'min_samples_split' : range(2, 10, 1),\n",
    "    'min_samples_leaf' : range(2, 10, 1)\n",
    "}\n",
    "\n",
    "grid_search = GridSearchCV(dtc, grid_params, cv = 5, n_jobs = -1, verbose = 1)\n",
    "grid_search.fit(X_train, y_train)\n"
   ]
  },
  {
   "cell_type": "code",
   "execution_count": 15,
   "id": "58bbe047",
   "metadata": {
    "execution": {
     "iopub.execute_input": "2021-10-10T18:11:59.243788Z",
     "iopub.status.busy": "2021-10-10T18:11:59.242890Z",
     "iopub.status.idle": "2021-10-10T18:11:59.246083Z",
     "shell.execute_reply": "2021-10-10T18:11:59.246497Z",
     "shell.execute_reply.started": "2021-10-10T17:19:46.605671Z"
    },
    "papermill": {
     "duration": 0.035849,
     "end_time": "2021-10-10T18:11:59.246619",
     "exception": false,
     "start_time": "2021-10-10T18:11:59.210770",
     "status": "completed"
    },
    "tags": []
   },
   "outputs": [
    {
     "name": "stdout",
     "output_type": "stream",
     "text": [
      "{'criterion': 'entropy', 'max_depth': 10, 'min_samples_leaf': 3, 'min_samples_split': 2}\n",
      "0.7768451653781995\n"
     ]
    }
   ],
   "source": [
    "# best parameters and best score\n",
    "print(grid_search.best_params_)\n",
    "print(grid_search.best_score_)"
   ]
  },
  {
   "cell_type": "code",
   "execution_count": 16,
   "id": "5b682cef",
   "metadata": {
    "execution": {
     "iopub.execute_input": "2021-10-10T18:11:59.310358Z",
     "iopub.status.busy": "2021-10-10T18:11:59.309546Z",
     "iopub.status.idle": "2021-10-10T18:11:59.337607Z",
     "shell.execute_reply": "2021-10-10T18:11:59.337147Z",
     "shell.execute_reply.started": "2021-10-10T17:19:46.613899Z"
    },
    "papermill": {
     "duration": 0.062723,
     "end_time": "2021-10-10T18:11:59.337715",
     "exception": false,
     "start_time": "2021-10-10T18:11:59.274992",
     "status": "completed"
    },
    "tags": []
   },
   "outputs": [
    {
     "name": "stdout",
     "output_type": "stream",
     "text": [
      "Training Accuracy of Decesion Tree Model is 0.8864776333299211\n",
      "Test Accuracy of Decesion Tree Model is 0.775253300583359\n"
     ]
    }
   ],
   "source": [
    "dtc = grid_search.best_estimator_\n",
    "y_pred = dtc.predict(X_test)\n",
    "dtc_train_acc = accuracy_score(y_train, dtc.predict(X_train))\n",
    "dtc_test_acc = accuracy_score(y_test, y_pred)\n",
    "\n",
    "print(f\"Training Accuracy of Decesion Tree Model is {dtc_train_acc}\")\n",
    "print(f\"Test Accuracy of Decesion Tree Model is {dtc_test_acc}\")"
   ]
  },
  {
   "cell_type": "code",
   "execution_count": 17,
   "id": "acf4b581",
   "metadata": {
    "execution": {
     "iopub.execute_input": "2021-10-10T18:11:59.401155Z",
     "iopub.status.busy": "2021-10-10T18:11:59.400485Z",
     "iopub.status.idle": "2021-10-10T18:12:25.819684Z",
     "shell.execute_reply": "2021-10-10T18:12:25.820306Z",
     "shell.execute_reply.started": "2021-10-10T17:19:46.652914Z"
    },
    "papermill": {
     "duration": 26.453547,
     "end_time": "2021-10-10T18:12:25.820526",
     "exception": false,
     "start_time": "2021-10-10T18:11:59.366979",
     "status": "completed"
    },
    "tags": []
   },
   "outputs": [
    {
     "name": "stdout",
     "output_type": "stream",
     "text": [
      "Training Accuracy of Random Forest Model is 0.9577234107892313\n",
      "Test Accuracy of Random Forest Model is 0.8719680687749463\n"
     ]
    }
   ],
   "source": [
    "# Random Forest Model\n",
    "from sklearn.ensemble import RandomForestClassifier\n",
    "\n",
    "rand_clf = RandomForestClassifier(criterion = 'entropy', max_depth = 10, max_features = 'sqrt', min_samples_leaf = 3, min_samples_split = 4, n_estimators = 180)\n",
    "rand_clf.fit(X_train, y_train)\n",
    "\n",
    "y_pred = rand_clf.predict(X_test)\n",
    "\n",
    "rand_clf_train_acc = accuracy_score(y_train, rand_clf.predict(X_train))\n",
    "rand_clf_test_acc = accuracy_score(y_test, y_pred)\n",
    "\n",
    "print(f\"Training Accuracy of Random Forest Model is {rand_clf_train_acc}\")\n",
    "print(f\"Test Accuracy of Random Forest Model is {rand_clf_test_acc}\")"
   ]
  },
  {
   "cell_type": "markdown",
   "id": "ef459099",
   "metadata": {
    "papermill": {
     "duration": 0.047879,
     "end_time": "2021-10-10T18:12:25.917804",
     "exception": false,
     "start_time": "2021-10-10T18:12:25.869925",
     "status": "completed"
    },
    "tags": []
   },
   "source": [
    "# **🔥 Best Model.**"
   ]
  },
  {
   "cell_type": "markdown",
   "id": "31ba0f01",
   "metadata": {
    "papermill": {
     "duration": 0.046684,
     "end_time": "2021-10-10T18:12:26.012134",
     "exception": false,
     "start_time": "2021-10-10T18:12:25.965450",
     "status": "completed"
    },
    "tags": []
   },
   "source": [
    "***We will select Random forest becuase it gives best accuracy of 95%. We will use Random Forest Model for production.***\n",
    "\n",
    "<img src= \"data:image/png;base64,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\" alt =\"Titanic\" class='center' style='width: 700px;'>\n",
    "\n",
    "**If you like the notebook please upvote & give your valubale suggestions for improvment ❤️**"
   ]
  }
 ],
 "metadata": {
  "kernelspec": {
   "display_name": "Python 3",
   "language": "python",
   "name": "python3"
  },
  "language_info": {
   "codemirror_mode": {
    "name": "ipython",
    "version": 3
   },
   "file_extension": ".py",
   "mimetype": "text/x-python",
   "name": "python",
   "nbconvert_exporter": "python",
   "pygments_lexer": "ipython3",
   "version": "3.7.10"
  },
  "papermill": {
   "default_parameters": {},
   "duration": 1263.693317,
   "end_time": "2021-10-10T18:12:26.770443",
   "environment_variables": {},
   "exception": null,
   "input_path": "__notebook__.ipynb",
   "output_path": "__notebook__.ipynb",
   "parameters": {},
   "start_time": "2021-10-10T17:51:23.077126",
   "version": "2.3.3"
  }
 },
 "nbformat": 4,
 "nbformat_minor": 5
}
